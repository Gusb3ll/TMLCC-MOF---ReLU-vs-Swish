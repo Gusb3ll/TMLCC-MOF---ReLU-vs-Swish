{
 "cells": [
  {
   "cell_type": "code",
   "execution_count": 1,
   "source": [
    "import os\r\n",
    "import math\r\n",
    "import numpy as np\r\n",
    "import pandas as pd\r\n",
    "import matplotlib.pyplot as plt\r\n",
    "\r\n",
    "import tensorflow as tf\r\n",
    "from sklearn.metrics import mean_absolute_error\r\n"
   ],
   "outputs": [],
   "metadata": {}
  },
  {
   "cell_type": "markdown",
   "source": [
    "# Import train/pretest dataset"
   ],
   "metadata": {}
  },
  {
   "cell_type": "code",
   "execution_count": 2,
   "source": [
    "train_df = pd.read_csv('data/train.csv')[:60000]\r\n",
    "pretest_df = pd.read_csv('data/pretest.csv')"
   ],
   "outputs": [],
   "metadata": {}
  },
  {
   "cell_type": "markdown",
   "source": [
    "# Check for feature in the dataset"
   ],
   "metadata": {}
  },
  {
   "cell_type": "code",
   "execution_count": 3,
   "source": [
    "feature = list(train_df.columns.values)\r\n",
    "feature = {k: v for k, v in enumerate(feature)}\r\n",
    "feature"
   ],
   "outputs": [
    {
     "output_type": "execute_result",
     "data": {
      "text/plain": [
       "{0: 'MOFname',\n",
       " 1: 'volume [A^3]',\n",
       " 2: 'weight [u]',\n",
       " 3: 'surface_area [m^2/g]',\n",
       " 4: 'void_fraction',\n",
       " 5: 'void_volume [cm^3/g]',\n",
       " 6: 'functional_groups',\n",
       " 7: 'metal_linker',\n",
       " 8: 'organic_linker1',\n",
       " 9: 'organic_linker2',\n",
       " 10: 'topology',\n",
       " 11: 'CO2/N2_selectivity',\n",
       " 12: 'heat_adsorption_CO2_P0.15bar_T298K [kcal/mol]',\n",
       " 13: 'CO2_working_capacity [mL/g]'}"
      ]
     },
     "metadata": {},
     "execution_count": 3
    }
   ],
   "metadata": {}
  },
  {
   "cell_type": "markdown",
   "source": [
    "# Data cleaning"
   ],
   "metadata": {}
  },
  {
   "cell_type": "code",
   "execution_count": 4,
   "source": [
    "train = train_df.iloc[:, [1,2,3,4,5,7,8,9,11,12,13]]\r\n",
    "train.head()"
   ],
   "outputs": [
    {
     "output_type": "execute_result",
     "data": {
      "text/html": [
       "<div>\n",
       "<style scoped>\n",
       "    .dataframe tbody tr th:only-of-type {\n",
       "        vertical-align: middle;\n",
       "    }\n",
       "\n",
       "    .dataframe tbody tr th {\n",
       "        vertical-align: top;\n",
       "    }\n",
       "\n",
       "    .dataframe thead th {\n",
       "        text-align: right;\n",
       "    }\n",
       "</style>\n",
       "<table border=\"1\" class=\"dataframe\">\n",
       "  <thead>\n",
       "    <tr style=\"text-align: right;\">\n",
       "      <th></th>\n",
       "      <th>volume [A^3]</th>\n",
       "      <th>weight [u]</th>\n",
       "      <th>surface_area [m^2/g]</th>\n",
       "      <th>void_fraction</th>\n",
       "      <th>void_volume [cm^3/g]</th>\n",
       "      <th>metal_linker</th>\n",
       "      <th>organic_linker1</th>\n",
       "      <th>organic_linker2</th>\n",
       "      <th>CO2/N2_selectivity</th>\n",
       "      <th>heat_adsorption_CO2_P0.15bar_T298K [kcal/mol]</th>\n",
       "      <th>CO2_working_capacity [mL/g]</th>\n",
       "    </tr>\n",
       "  </thead>\n",
       "  <tbody>\n",
       "    <tr>\n",
       "      <th>0</th>\n",
       "      <td>1116.667429</td>\n",
       "      <td>875.240600</td>\n",
       "      <td>0.00</td>\n",
       "      <td>0.07899</td>\n",
       "      <td>0.0607</td>\n",
       "      <td>3</td>\n",
       "      <td>4</td>\n",
       "      <td>11</td>\n",
       "      <td>22.864166</td>\n",
       "      <td>6.786041</td>\n",
       "      <td>105.284502</td>\n",
       "    </tr>\n",
       "    <tr>\n",
       "      <th>1</th>\n",
       "      <td>2769.503842</td>\n",
       "      <td>2211.697211</td>\n",
       "      <td>603.61</td>\n",
       "      <td>0.13794</td>\n",
       "      <td>0.1040</td>\n",
       "      <td>10</td>\n",
       "      <td>44</td>\n",
       "      <td>57</td>\n",
       "      <td>33.616780</td>\n",
       "      <td>7.147286</td>\n",
       "      <td>101.224774</td>\n",
       "    </tr>\n",
       "    <tr>\n",
       "      <th>2</th>\n",
       "      <td>1089.818728</td>\n",
       "      <td>773.687960</td>\n",
       "      <td>788.50</td>\n",
       "      <td>0.14874</td>\n",
       "      <td>0.1262</td>\n",
       "      <td>2</td>\n",
       "      <td>22</td>\n",
       "      <td>24</td>\n",
       "      <td>19.263726</td>\n",
       "      <td>6.347967</td>\n",
       "      <td>118.987011</td>\n",
       "    </tr>\n",
       "    <tr>\n",
       "      <th>3</th>\n",
       "      <td>2205.198301</td>\n",
       "      <td>1304.638720</td>\n",
       "      <td>1441.53</td>\n",
       "      <td>0.21814</td>\n",
       "      <td>0.2220</td>\n",
       "      <td>9</td>\n",
       "      <td>17</td>\n",
       "      <td>24</td>\n",
       "      <td>25.701377</td>\n",
       "      <td>6.190085</td>\n",
       "      <td>187.626004</td>\n",
       "    </tr>\n",
       "    <tr>\n",
       "      <th>4</th>\n",
       "      <td>1137.800963</td>\n",
       "      <td>901.736120</td>\n",
       "      <td>0.00</td>\n",
       "      <td>0.07778</td>\n",
       "      <td>0.0591</td>\n",
       "      <td>2</td>\n",
       "      <td>1</td>\n",
       "      <td>22</td>\n",
       "      <td>30.001838</td>\n",
       "      <td>6.478063</td>\n",
       "      <td>79.210001</td>\n",
       "    </tr>\n",
       "  </tbody>\n",
       "</table>\n",
       "</div>"
      ],
      "text/plain": [
       "   volume [A^3]   weight [u]  surface_area [m^2/g]  void_fraction  \\\n",
       "0   1116.667429   875.240600                  0.00        0.07899   \n",
       "1   2769.503842  2211.697211                603.61        0.13794   \n",
       "2   1089.818728   773.687960                788.50        0.14874   \n",
       "3   2205.198301  1304.638720               1441.53        0.21814   \n",
       "4   1137.800963   901.736120                  0.00        0.07778   \n",
       "\n",
       "   void_volume [cm^3/g]  metal_linker  organic_linker1  organic_linker2  \\\n",
       "0                0.0607             3                4               11   \n",
       "1                0.1040            10               44               57   \n",
       "2                0.1262             2               22               24   \n",
       "3                0.2220             9               17               24   \n",
       "4                0.0591             2                1               22   \n",
       "\n",
       "   CO2/N2_selectivity  heat_adsorption_CO2_P0.15bar_T298K [kcal/mol]  \\\n",
       "0           22.864166                                       6.786041   \n",
       "1           33.616780                                       7.147286   \n",
       "2           19.263726                                       6.347967   \n",
       "3           25.701377                                       6.190085   \n",
       "4           30.001838                                       6.478063   \n",
       "\n",
       "   CO2_working_capacity [mL/g]  \n",
       "0                   105.284502  \n",
       "1                   101.224774  \n",
       "2                   118.987011  \n",
       "3                   187.626004  \n",
       "4                    79.210001  "
      ]
     },
     "metadata": {},
     "execution_count": 4
    }
   ],
   "metadata": {}
  },
  {
   "cell_type": "code",
   "execution_count": 5,
   "source": [
    "check_null = train.isnull().any(axis=0)\r\n",
    "check_inf = np.isinf(train).any(axis=0)\r\n",
    "\r\n",
    "print(check_null)\r\n",
    "print(check_inf)"
   ],
   "outputs": [
    {
     "output_type": "stream",
     "name": "stdout",
     "text": [
      "volume [A^3]                                     False\n",
      "weight [u]                                       False\n",
      "surface_area [m^2/g]                             False\n",
      "void_fraction                                    False\n",
      "void_volume [cm^3/g]                             False\n",
      "metal_linker                                     False\n",
      "organic_linker1                                  False\n",
      "organic_linker2                                  False\n",
      "CO2/N2_selectivity                               False\n",
      "heat_adsorption_CO2_P0.15bar_T298K [kcal/mol]    False\n",
      "CO2_working_capacity [mL/g]                      False\n",
      "dtype: bool\n",
      "volume [A^3]                                     False\n",
      "weight [u]                                       False\n",
      "surface_area [m^2/g]                             False\n",
      "void_fraction                                    False\n",
      "void_volume [cm^3/g]                             False\n",
      "metal_linker                                     False\n",
      "organic_linker1                                  False\n",
      "organic_linker2                                  False\n",
      "CO2/N2_selectivity                               False\n",
      "heat_adsorption_CO2_P0.15bar_T298K [kcal/mol]    False\n",
      "CO2_working_capacity [mL/g]                      False\n",
      "dtype: bool\n"
     ]
    }
   ],
   "metadata": {}
  },
  {
   "cell_type": "code",
   "execution_count": 6,
   "source": [
    "ratio = 0.8\r\n",
    "train_size = math.floor(train.shape[0]*0.8)\r\n",
    "test_size = train.shape[0] - train_size\r\n",
    "print(\"Dataset size:\", train.shape[0])\r\n",
    "print(\"Train size:\", train_size)\r\n",
    "print(\"Test size:\", test_size)"
   ],
   "outputs": [
    {
     "output_type": "stream",
     "name": "stdout",
     "text": [
      "Dataset size: 60000\n",
      "Train size: 48000\n",
      "Test size: 12000\n"
     ]
    }
   ],
   "metadata": {}
  },
  {
   "cell_type": "code",
   "execution_count": 7,
   "source": [
    "x_train = train.iloc[0:train_size, :-1].astype(np.float32)\r\n",
    "y_train = train.iloc[0:train_size, -1].astype(np.float32)\r\n",
    "x_test = train.iloc[train_size:train_size+test_size, :-1].astype(np.float32)\r\n",
    "y_test = train.iloc[train_size:train_size+test_size, -1].astype(np.float32)"
   ],
   "outputs": [],
   "metadata": {}
  },
  {
   "cell_type": "markdown",
   "source": [
    "# Create model"
   ],
   "metadata": {}
  },
  {
   "cell_type": "code",
   "execution_count": 8,
   "source": [
    "def model_swish():\r\n",
    "  model = tf.keras.models.Sequential()\r\n",
    "\r\n",
    "  model.add(tf.keras.layers.Dense(12, input_dim=(10), activation='swish'))\r\n",
    "  model.add(tf.keras.layers.Dense(24, activation='swish'))\r\n",
    "  model.add(tf.keras.layers.Dense(12, activation='swish'))\r\n",
    "  model.add(tf.keras.layers.Dense(1, activation='linear'))\r\n",
    "\r\n",
    "  model.compile(loss=tf.keras.losses.MeanAbsoluteError(), optimizer=tf.keras.optimizers.Adam())\r\n",
    "  return model\r\n",
    "\r\n",
    "def model_relu():\r\n",
    "  model = tf.keras.models.Sequential()\r\n",
    "\r\n",
    "  model.add(tf.keras.layers.Dense(12, input_dim=(10), activation='relu'))\r\n",
    "  model.add(tf.keras.layers.Dense(24, activation='relu'))\r\n",
    "  model.add(tf.keras.layers.Dense(12, activation='relu'))\r\n",
    "  model.add(tf.keras.layers.Dense(1, activation='linear'))\r\n",
    "\r\n",
    "  model.compile(loss=tf.keras.losses.MeanAbsoluteError(), optimizer=tf.keras.optimizers.Adam())\r\n",
    "  return model"
   ],
   "outputs": [],
   "metadata": {}
  },
  {
   "cell_type": "code",
   "execution_count": 9,
   "source": [
    "swish = model_swish()\r\n",
    "relu = model_relu()"
   ],
   "outputs": [],
   "metadata": {}
  },
  {
   "cell_type": "code",
   "execution_count": 10,
   "source": [
    "tf.keras.utils.plot_model(swish, to_file='model_pic/model.png', show_shapes=True, show_layer_names=False)"
   ],
   "outputs": [
    {
     "output_type": "execute_result",
     "data": {
      "image/png": "[encoded data removed]",
      "text/plain": [
       "<IPython.core.display.Image object>"
      ]
     },
     "metadata": {},
     "execution_count": 10
    }
   ],
   "metadata": {}
  },
  {
   "cell_type": "markdown",
   "source": [
    "# Fit the model"
   ],
   "metadata": {}
  },
  {
   "cell_type": "code",
   "execution_count": 11,
   "source": [
    "sw_history = swish.fit(x_train, y_train, epochs=150, verbose=0)\r\n",
    "re_history = relu.fit(x_train, y_train, epochs=150, verbose=0)"
   ],
   "outputs": [],
   "metadata": {}
  },
  {
   "cell_type": "code",
   "execution_count": 12,
   "source": [
    "fig, (ax1, ax2) = plt.subplots(1,2, figsize=(20,8))\r\n",
    "\r\n",
    "sw_loss = sw_history.history['loss']\r\n",
    "re_loss = re_history.history['loss']\r\n",
    "\r\n",
    "ax1.plot(sw_loss)\r\n",
    "ax2.plot(re_loss)\r\n",
    "ax1.set_xlabel('epochs'), ax2.set_xlabel('epochs')\r\n",
    "ax1.set_ylabel('loss'), ax2.set_ylabel('loss')\r\n",
    "\r\n",
    "plt.show()"
   ],
   "outputs": [
    {
     "output_type": "display_data",
     "data": {
      "image/png": "[encoded data removed]",
      "text/plain": [
       "<Figure size 1440x576 with 2 Axes>"
      ]
     },
     "metadata": {
      "needs_background": "light"
     }
    }
   ],
   "metadata": {}
  },
  {
   "cell_type": "code",
   "execution_count": 13,
   "source": [
    "sw_pred = swish.predict(x_test)\r\n",
    "re_pred = relu.predict(x_test)"
   ],
   "outputs": [],
   "metadata": {}
  },
  {
   "cell_type": "code",
   "execution_count": 14,
   "source": [
    "sw_log_mae = np.log(mean_absolute_error(sw_pred, y_test))\r\n",
    "re_log_mae = np.log(mean_absolute_error(re_pred, y_test))\r\n",
    "\r\n",
    "print('Swish activation : ' + str(sw_log_mae))\r\n",
    "print('ReLU activation : ' + str(re_log_mae))"
   ],
   "outputs": [
    {
     "output_type": "stream",
     "name": "stdout",
     "text": [
      "Swish activation : 3.387215\n",
      "ReLU activation : 3.4611566\n"
     ]
    }
   ],
   "metadata": {}
  }
 ],
 "metadata": {
  "orig_nbformat": 4,
  "language_info": {
   "name": "python",
   "version": "3.9.7",
   "mimetype": "text/x-python",
   "codemirror_mode": {
    "name": "ipython",
    "version": 3
   },
   "pygments_lexer": "ipython3",
   "nbconvert_exporter": "python",
   "file_extension": ".py"
  },
  "kernelspec": {
   "name": "python3",
   "display_name": "Python 3.9.7 64-bit ('env': venv)"
  },
  "interpreter": {
   "hash": "2fd07f4540197822f09abc70d5806247319a681f8bb1057e244daa81f9f400a4"
  }
 },
 "nbformat": 4,
 "nbformat_minor": 2
}